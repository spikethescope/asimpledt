{
    "import": [
        {
            "module": "pandas",
            "as": "pd"
        },
        {
            "module": "sklearn.tree",
            "import": [
                {
                    "name": "DecisionTreeClassifier"
                },
                {
                    "name": "export_text"
                }
            ]
        },
        {
            "module": "sklearn",
            "import": [
                {
                    "name": "preprocessing"
                }
            ]
        },
        {
            "module": "matplotlib.pyplot",
            "as": "plt"
        }
    ],
    "data": {
        "Refund": [
            "Yes",
            "No",
            "No",
            "Yes",
            "No",
            "No",
            "Yes",
            "No",
            "No",
            "No"
        ],
        "Marital_Status": [
            "Single",
            "Married",
            "Single",
            "Married",
            "Divorced",
            "Married",
            "Divorced",
            "Single",
            "Married",
            "Single"
        ],
        "Taxable_Income": [
            125,
            100,
            70,
            120,
            95,
            60,
            220,
            85,
            75,
            90
        ],
        "Defaulter": [
            "No",
            "No",
            "No",
            "No",
            "Yes",
            "No",
            "No",
            "Yes",
            "No",
            "Yes"
        ]
    },
    "df": {
        "function": "pd.DataFrame",
        "args": [
            {
                "ref": "data"
            }
        ],
        "assign_to": "df"
    },
    "label_encoders": {},
    "for_loop": {
        "variable": "column",
        "iterable": {
            "function": "df.columns",
            "args": [
                0,
                2
            ]
        },
        "body": [
            {
                "function": "preprocessing.LabelEncoder",
                "assign_to": "le"
            },
            {
                "function": "df.__getitem__",
                "args": [
                    {
                        "ref": "column"
                    }
                ],
                "method": "assign",
                "args2": [
                    {
                        "function": "le.fit_transform",
                        "args": [
                            {
                                "function": "df.__getitem__",
                                "args": [
                                    {
                                        "ref": "column"
                                    }
                                ]
                            }
                        ]
                    }
                ]
            },
            {
                "function": "label_encoders.__setitem__",
                "args": [
                    {
                        "ref": "column"
                    },
                    {
                        "ref": "le"
                    }
                ]
            }
        ]
    },
    "X": {
        "function": "df.drop",
        "args": [
            {
                "value": "Defaulter",
                "key": "columns"
            }
        ]
    },
    "y": {
        "function": "df.__getitem__",
        "args": [
            {
                "value": "Defaulter"
            }
        ]
    },
    "model": {
        "module": "sklearn.tree",
        "class": "DecisionTreeClassifier",
        "args": []
    },
    "model_fit": {
        "function": "model.fit",
        "args": [
            {
                "ref": "X"
            },
            {
                "ref": "y"
            }
        ]
    },
    "tree_rules": {
        "function": "export_text",
        "args": [
            {
                "ref": "model"
            },
            {
                "function": "X.columns.tolist"
            }
        ],
        "assign_to": "tree_rules"
    },
    "print_tree_rules": {
        "function": "print",
        "args": [
            "Decision Tree Rules:",
            {
                "ref": "tree_rules"
            }
        ]
    },
    "plot_tree": {
        "module": "sklearn.tree",
        "import": [
            {
                "name": "plot_tree"
            }
        ],
        "args": [
            {
                "ref": "model"
            },
            {
                "function": "X.columns.tolist"
            },
            {
                "value": [
                    "Yes",
                    "No"
                ]
            }
        ],
        "kwargs": {
            "filled": true,
            "rounded": true
        }
    },
    "plot_tree_show": {
        "function": "plt.show"
    }
}
